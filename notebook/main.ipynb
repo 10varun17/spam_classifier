{
 "cells": [
  {
   "cell_type": "markdown",
   "metadata": {},
   "source": [
    "# Download the dataset"
   ]
  },
  {
   "cell_type": "code",
   "execution_count": 4,
   "metadata": {},
   "outputs": [],
   "source": [
    "import os\n",
    "from zipfile import ZipFile\n",
    "PATH_TO_ZIP = os.path.join(\"..\", \"dataset\")\n",
    "PATH_TO_CSV = os.path.join(\"..\", \"dataset\")\n",
    "with ZipFile(os.path.join(PATH_TO_ZIP, \"archive.zip\"), \"r\") as z_obj:\n",
    "    z_obj.extractall(PATH_TO_CSV)"
   ]
  },
  {
   "cell_type": "code",
   "execution_count": 5,
   "metadata": {},
   "outputs": [],
   "source": [
    "import pandas as pd\n",
    "spam_ham_df = pd.read_csv(os.path.join(PATH_TO_CSV, \"spam_or_not_spam.csv\"))"
   ]
  },
  {
   "cell_type": "markdown",
   "metadata": {},
   "source": [
    "# Exploratory Data Analysis"
   ]
  },
  {
   "cell_type": "markdown",
   "metadata": {},
   "source": [
    "## Quick Glance"
   ]
  },
  {
   "cell_type": "code",
   "execution_count": 6,
   "metadata": {},
   "outputs": [
    {
     "data": {
      "text/html": [
       "<div>\n",
       "<style scoped>\n",
       "    .dataframe tbody tr th:only-of-type {\n",
       "        vertical-align: middle;\n",
       "    }\n",
       "\n",
       "    .dataframe tbody tr th {\n",
       "        vertical-align: top;\n",
       "    }\n",
       "\n",
       "    .dataframe thead th {\n",
       "        text-align: right;\n",
       "    }\n",
       "</style>\n",
       "<table border=\"1\" class=\"dataframe\">\n",
       "  <thead>\n",
       "    <tr style=\"text-align: right;\">\n",
       "      <th></th>\n",
       "      <th>email</th>\n",
       "      <th>label</th>\n",
       "    </tr>\n",
       "  </thead>\n",
       "  <tbody>\n",
       "    <tr>\n",
       "      <th>0</th>\n",
       "      <td>date wed NUMBER aug NUMBER NUMBER NUMBER NUMB...</td>\n",
       "      <td>0</td>\n",
       "    </tr>\n",
       "    <tr>\n",
       "      <th>1</th>\n",
       "      <td>martin a posted tassos papadopoulos the greek ...</td>\n",
       "      <td>0</td>\n",
       "    </tr>\n",
       "    <tr>\n",
       "      <th>2</th>\n",
       "      <td>man threatens explosion in moscow thursday aug...</td>\n",
       "      <td>0</td>\n",
       "    </tr>\n",
       "    <tr>\n",
       "      <th>3</th>\n",
       "      <td>klez the virus that won t die already the most...</td>\n",
       "      <td>0</td>\n",
       "    </tr>\n",
       "    <tr>\n",
       "      <th>4</th>\n",
       "      <td>in adding cream to spaghetti carbonara which ...</td>\n",
       "      <td>0</td>\n",
       "    </tr>\n",
       "  </tbody>\n",
       "</table>\n",
       "</div>"
      ],
      "text/plain": [
       "                                               email  label\n",
       "0   date wed NUMBER aug NUMBER NUMBER NUMBER NUMB...      0\n",
       "1  martin a posted tassos papadopoulos the greek ...      0\n",
       "2  man threatens explosion in moscow thursday aug...      0\n",
       "3  klez the virus that won t die already the most...      0\n",
       "4   in adding cream to spaghetti carbonara which ...      0"
      ]
     },
     "execution_count": 6,
     "metadata": {},
     "output_type": "execute_result"
    }
   ],
   "source": [
    "spam_ham_df.head(5) # 0 is ham; 1 is spam"
   ]
  },
  {
   "cell_type": "code",
   "execution_count": 7,
   "metadata": {},
   "outputs": [
    {
     "name": "stdout",
     "output_type": "stream",
     "text": [
      "<class 'pandas.core.frame.DataFrame'>\n",
      "RangeIndex: 3000 entries, 0 to 2999\n",
      "Data columns (total 2 columns):\n",
      " #   Column  Non-Null Count  Dtype \n",
      "---  ------  --------------  ----- \n",
      " 0   email   2999 non-null   object\n",
      " 1   label   3000 non-null   int64 \n",
      "dtypes: int64(1), object(1)\n",
      "memory usage: 47.0+ KB\n"
     ]
    }
   ],
   "source": [
    "spam_ham_df.info()"
   ]
  },
  {
   "cell_type": "markdown",
   "metadata": {},
   "source": [
    "## Check for null values"
   ]
  },
  {
   "cell_type": "code",
   "execution_count": 8,
   "metadata": {},
   "outputs": [
    {
     "data": {
      "text/html": [
       "<div>\n",
       "<style scoped>\n",
       "    .dataframe tbody tr th:only-of-type {\n",
       "        vertical-align: middle;\n",
       "    }\n",
       "\n",
       "    .dataframe tbody tr th {\n",
       "        vertical-align: top;\n",
       "    }\n",
       "\n",
       "    .dataframe thead th {\n",
       "        text-align: right;\n",
       "    }\n",
       "</style>\n",
       "<table border=\"1\" class=\"dataframe\">\n",
       "  <thead>\n",
       "    <tr style=\"text-align: right;\">\n",
       "      <th></th>\n",
       "      <th>email</th>\n",
       "      <th>label</th>\n",
       "    </tr>\n",
       "  </thead>\n",
       "  <tbody>\n",
       "    <tr>\n",
       "      <th>0</th>\n",
       "      <td>False</td>\n",
       "      <td>False</td>\n",
       "    </tr>\n",
       "    <tr>\n",
       "      <th>1</th>\n",
       "      <td>False</td>\n",
       "      <td>False</td>\n",
       "    </tr>\n",
       "    <tr>\n",
       "      <th>2</th>\n",
       "      <td>False</td>\n",
       "      <td>False</td>\n",
       "    </tr>\n",
       "    <tr>\n",
       "      <th>3</th>\n",
       "      <td>False</td>\n",
       "      <td>False</td>\n",
       "    </tr>\n",
       "    <tr>\n",
       "      <th>4</th>\n",
       "      <td>False</td>\n",
       "      <td>False</td>\n",
       "    </tr>\n",
       "    <tr>\n",
       "      <th>...</th>\n",
       "      <td>...</td>\n",
       "      <td>...</td>\n",
       "    </tr>\n",
       "    <tr>\n",
       "      <th>2995</th>\n",
       "      <td>False</td>\n",
       "      <td>False</td>\n",
       "    </tr>\n",
       "    <tr>\n",
       "      <th>2996</th>\n",
       "      <td>False</td>\n",
       "      <td>False</td>\n",
       "    </tr>\n",
       "    <tr>\n",
       "      <th>2997</th>\n",
       "      <td>False</td>\n",
       "      <td>False</td>\n",
       "    </tr>\n",
       "    <tr>\n",
       "      <th>2998</th>\n",
       "      <td>False</td>\n",
       "      <td>False</td>\n",
       "    </tr>\n",
       "    <tr>\n",
       "      <th>2999</th>\n",
       "      <td>False</td>\n",
       "      <td>False</td>\n",
       "    </tr>\n",
       "  </tbody>\n",
       "</table>\n",
       "<p>3000 rows × 2 columns</p>\n",
       "</div>"
      ],
      "text/plain": [
       "      email  label\n",
       "0     False  False\n",
       "1     False  False\n",
       "2     False  False\n",
       "3     False  False\n",
       "4     False  False\n",
       "...     ...    ...\n",
       "2995  False  False\n",
       "2996  False  False\n",
       "2997  False  False\n",
       "2998  False  False\n",
       "2999  False  False\n",
       "\n",
       "[3000 rows x 2 columns]"
      ]
     },
     "execution_count": 8,
     "metadata": {},
     "output_type": "execute_result"
    }
   ],
   "source": [
    "spam_ham_df.isnull()"
   ]
  },
  {
   "cell_type": "code",
   "execution_count": 9,
   "metadata": {},
   "outputs": [
    {
     "data": {
      "text/html": [
       "<div>\n",
       "<style scoped>\n",
       "    .dataframe tbody tr th:only-of-type {\n",
       "        vertical-align: middle;\n",
       "    }\n",
       "\n",
       "    .dataframe tbody tr th {\n",
       "        vertical-align: top;\n",
       "    }\n",
       "\n",
       "    .dataframe thead th {\n",
       "        text-align: right;\n",
       "    }\n",
       "</style>\n",
       "<table border=\"1\" class=\"dataframe\">\n",
       "  <thead>\n",
       "    <tr style=\"text-align: right;\">\n",
       "      <th></th>\n",
       "      <th>email</th>\n",
       "      <th>label</th>\n",
       "    </tr>\n",
       "  </thead>\n",
       "  <tbody>\n",
       "    <tr>\n",
       "      <th>2966</th>\n",
       "      <td>NaN</td>\n",
       "      <td>1</td>\n",
       "    </tr>\n",
       "  </tbody>\n",
       "</table>\n",
       "</div>"
      ],
      "text/plain": [
       "     email  label\n",
       "2966   NaN      1"
      ]
     },
     "execution_count": 9,
     "metadata": {},
     "output_type": "execute_result"
    }
   ],
   "source": [
    "null_mask = spam_ham_df.isnull()\n",
    "rows_with_nulls = spam_ham_df[null_mask.any(axis=1)]\n",
    "rows_with_nulls"
   ]
  },
  {
   "cell_type": "code",
   "execution_count": 10,
   "metadata": {},
   "outputs": [],
   "source": [
    "# remove the row with null value for email\n",
    "spam_ham_df = spam_ham_df.dropna()\n",
    "spam_ham_df.reset_index(inplace=True)"
   ]
  },
  {
   "cell_type": "code",
   "execution_count": 11,
   "metadata": {},
   "outputs": [
    {
     "data": {
      "text/plain": [
       "index    0\n",
       "email    0\n",
       "label    0\n",
       "dtype: int64"
      ]
     },
     "execution_count": 11,
     "metadata": {},
     "output_type": "execute_result"
    }
   ],
   "source": [
    "spam_ham_df.isnull().sum()"
   ]
  },
  {
   "cell_type": "markdown",
   "metadata": {},
   "source": [
    "## Distribution of Labels"
   ]
  },
  {
   "cell_type": "code",
   "execution_count": 12,
   "metadata": {},
   "outputs": [
    {
     "data": {
      "image/png": "[encoded data removed]",
      "text/plain": [
       "<Figure size 1200x800 with 1 Axes>"
      ]
     },
     "metadata": {},
     "output_type": "display_data"
    }
   ],
   "source": [
    "import matplotlib.pyplot as plt\n",
    "\n",
    "plt.figure(figsize=(12,8))\n",
    "plt.pie(spam_ham_df[\"label\"].value_counts(), labels=[\"spam\" if i == 1 else \"ham\" for i in spam_ham_df[\"label\"].value_counts().index], autopct=\"%1.1f%%\")\n",
    "plt.title(\"distribution of spam and ham emails\")\n",
    "plt.show()"
   ]
  },
  {
   "cell_type": "code",
   "execution_count": 13,
   "metadata": {},
   "outputs": [
    {
     "data": {
      "text/plain": [
       "Index([0, 1], dtype='int64', name='label')"
      ]
     },
     "execution_count": 13,
     "metadata": {},
     "output_type": "execute_result"
    }
   ],
   "source": [
    "spam_ham_df[\"label\"].value_counts().index"
   ]
  },
  {
   "cell_type": "markdown",
   "metadata": {},
   "source": [
    "## Text Data Exploration"
   ]
  },
  {
   "cell_type": "code",
   "execution_count": 15,
   "metadata": {},
   "outputs": [
    {
     "name": "stderr",
     "output_type": "stream",
     "text": [
      "[nltk_data] Downloading package stopwords to\n",
      "[nltk_data]     C:\\Users\\panth\\AppData\\Roaming\\nltk_data...\n",
      "[nltk_data]   Package stopwords is already up-to-date!\n",
      "[nltk_data] Downloading package punkt to\n",
      "[nltk_data]     C:\\Users\\panth\\AppData\\Roaming\\nltk_data...\n",
      "[nltk_data]   Package punkt is already up-to-date!\n"
     ]
    },
    {
     "data": {
      "text/html": [
       "<div>\n",
       "<style scoped>\n",
       "    .dataframe tbody tr th:only-of-type {\n",
       "        vertical-align: middle;\n",
       "    }\n",
       "\n",
       "    .dataframe tbody tr th {\n",
       "        vertical-align: top;\n",
       "    }\n",
       "\n",
       "    .dataframe thead th {\n",
       "        text-align: right;\n",
       "    }\n",
       "</style>\n",
       "<table border=\"1\" class=\"dataframe\">\n",
       "  <thead>\n",
       "    <tr style=\"text-align: right;\">\n",
       "      <th></th>\n",
       "      <th>email</th>\n",
       "      <th>label</th>\n",
       "      <th>num_characters</th>\n",
       "      <th>num_words</th>\n",
       "      <th>num_sentences</th>\n",
       "    </tr>\n",
       "  </thead>\n",
       "  <tbody>\n",
       "    <tr>\n",
       "      <th>0</th>\n",
       "      <td>date wed NUMBER aug NUMBER NUMBER NUMBER NUMB...</td>\n",
       "      <td>0</td>\n",
       "      <td>1522</td>\n",
       "      <td>257</td>\n",
       "      <td>1</td>\n",
       "    </tr>\n",
       "    <tr>\n",
       "      <th>1</th>\n",
       "      <td>martin a posted tassos papadopoulos the greek ...</td>\n",
       "      <td>0</td>\n",
       "      <td>643</td>\n",
       "      <td>113</td>\n",
       "      <td>1</td>\n",
       "    </tr>\n",
       "    <tr>\n",
       "      <th>2</th>\n",
       "      <td>man threatens explosion in moscow thursday aug...</td>\n",
       "      <td>0</td>\n",
       "      <td>1509</td>\n",
       "      <td>256</td>\n",
       "      <td>1</td>\n",
       "    </tr>\n",
       "    <tr>\n",
       "      <th>3</th>\n",
       "      <td>klez the virus that won t die already the most...</td>\n",
       "      <td>0</td>\n",
       "      <td>1015</td>\n",
       "      <td>169</td>\n",
       "      <td>1</td>\n",
       "    </tr>\n",
       "    <tr>\n",
       "      <th>4</th>\n",
       "      <td>in adding cream to spaghetti carbonara which ...</td>\n",
       "      <td>0</td>\n",
       "      <td>771</td>\n",
       "      <td>144</td>\n",
       "      <td>1</td>\n",
       "    </tr>\n",
       "    <tr>\n",
       "      <th>...</th>\n",
       "      <td>...</td>\n",
       "      <td>...</td>\n",
       "      <td>...</td>\n",
       "      <td>...</td>\n",
       "      <td>...</td>\n",
       "    </tr>\n",
       "    <tr>\n",
       "      <th>2994</th>\n",
       "      <td>abc s good morning america ranks it the NUMBE...</td>\n",
       "      <td>1</td>\n",
       "      <td>561</td>\n",
       "      <td>96</td>\n",
       "      <td>1</td>\n",
       "    </tr>\n",
       "    <tr>\n",
       "      <th>2995</th>\n",
       "      <td>hyperlink hyperlink hyperlink let mortgage le...</td>\n",
       "      <td>1</td>\n",
       "      <td>468</td>\n",
       "      <td>79</td>\n",
       "      <td>1</td>\n",
       "    </tr>\n",
       "    <tr>\n",
       "      <th>2996</th>\n",
       "      <td>thank you for shopping with us gifts for all ...</td>\n",
       "      <td>1</td>\n",
       "      <td>864</td>\n",
       "      <td>154</td>\n",
       "      <td>1</td>\n",
       "    </tr>\n",
       "    <tr>\n",
       "      <th>2997</th>\n",
       "      <td>the famous ebay marketing e course learn to s...</td>\n",
       "      <td>1</td>\n",
       "      <td>4129</td>\n",
       "      <td>747</td>\n",
       "      <td>1</td>\n",
       "    </tr>\n",
       "    <tr>\n",
       "      <th>2998</th>\n",
       "      <td>hello this is chinese traditional 子 件 NUMBER世...</td>\n",
       "      <td>1</td>\n",
       "      <td>1981</td>\n",
       "      <td>437</td>\n",
       "      <td>1</td>\n",
       "    </tr>\n",
       "  </tbody>\n",
       "</table>\n",
       "<p>2999 rows × 5 columns</p>\n",
       "</div>"
      ],
      "text/plain": [
       "                                                  email  label  \\\n",
       "0      date wed NUMBER aug NUMBER NUMBER NUMBER NUMB...      0   \n",
       "1     martin a posted tassos papadopoulos the greek ...      0   \n",
       "2     man threatens explosion in moscow thursday aug...      0   \n",
       "3     klez the virus that won t die already the most...      0   \n",
       "4      in adding cream to spaghetti carbonara which ...      0   \n",
       "...                                                 ...    ...   \n",
       "2994   abc s good morning america ranks it the NUMBE...      1   \n",
       "2995   hyperlink hyperlink hyperlink let mortgage le...      1   \n",
       "2996   thank you for shopping with us gifts for all ...      1   \n",
       "2997   the famous ebay marketing e course learn to s...      1   \n",
       "2998   hello this is chinese traditional 子 件 NUMBER世...      1   \n",
       "\n",
       "      num_characters  num_words  num_sentences  \n",
       "0               1522        257              1  \n",
       "1                643        113              1  \n",
       "2               1509        256              1  \n",
       "3               1015        169              1  \n",
       "4                771        144              1  \n",
       "...              ...        ...            ...  \n",
       "2994             561         96              1  \n",
       "2995             468         79              1  \n",
       "2996             864        154              1  \n",
       "2997            4129        747              1  \n",
       "2998            1981        437              1  \n",
       "\n",
       "[2999 rows x 5 columns]"
      ]
     },
     "execution_count": 15,
     "metadata": {},
     "output_type": "execute_result"
    }
   ],
   "source": [
    "import nltk\n",
    "nltk.download(\"stopwords\")\n",
    "nltk.download(\"punkt\")\n",
    "from nltk.tokenize import word_tokenize, sent_tokenize\n",
    "\n",
    "spam_ham_df.loc[:, ('num_characters')] = spam_ham_df['email'].apply(len)\n",
    "spam_ham_df.loc[:, (\"num_words\")] = spam_ham_df[\"email\"].apply(word_tokenize).apply(len)\n",
    "spam_ham_df.loc[:, (\"num_sentences\")] = spam_ham_df[\"email\"].apply(sent_tokenize).apply(len)\n",
    "spam_ham_df = spam_ham_df.drop(\"index\", axis=1)\n",
    "spam_ham_df"
   ]
  },
  {
   "cell_type": "code",
   "execution_count": 16,
   "metadata": {},
   "outputs": [
    {
     "data": {
      "text/html": [
       "<div>\n",
       "<style scoped>\n",
       "    .dataframe tbody tr th:only-of-type {\n",
       "        vertical-align: middle;\n",
       "    }\n",
       "\n",
       "    .dataframe tbody tr th {\n",
       "        vertical-align: top;\n",
       "    }\n",
       "\n",
       "    .dataframe thead th {\n",
       "        text-align: right;\n",
       "    }\n",
       "</style>\n",
       "<table border=\"1\" class=\"dataframe\">\n",
       "  <thead>\n",
       "    <tr style=\"text-align: right;\">\n",
       "      <th></th>\n",
       "      <th>count</th>\n",
       "      <th>mean</th>\n",
       "      <th>std</th>\n",
       "      <th>min</th>\n",
       "      <th>25%</th>\n",
       "      <th>50%</th>\n",
       "      <th>75%</th>\n",
       "      <th>max</th>\n",
       "    </tr>\n",
       "    <tr>\n",
       "      <th>label</th>\n",
       "      <th></th>\n",
       "      <th></th>\n",
       "      <th></th>\n",
       "      <th></th>\n",
       "      <th></th>\n",
       "      <th></th>\n",
       "      <th></th>\n",
       "      <th></th>\n",
       "    </tr>\n",
       "  </thead>\n",
       "  <tbody>\n",
       "    <tr>\n",
       "      <th>0</th>\n",
       "      <td>2500.0</td>\n",
       "      <td>1233.672000</td>\n",
       "      <td>3101.999287</td>\n",
       "      <td>5.0</td>\n",
       "      <td>360.0</td>\n",
       "      <td>719.0</td>\n",
       "      <td>1280.25</td>\n",
       "      <td>82994.0</td>\n",
       "    </tr>\n",
       "    <tr>\n",
       "      <th>1</th>\n",
       "      <td>499.0</td>\n",
       "      <td>2313.669339</td>\n",
       "      <td>9817.766265</td>\n",
       "      <td>1.0</td>\n",
       "      <td>525.0</td>\n",
       "      <td>956.0</td>\n",
       "      <td>1941.00</td>\n",
       "      <td>200408.0</td>\n",
       "    </tr>\n",
       "  </tbody>\n",
       "</table>\n",
       "</div>"
      ],
      "text/plain": [
       "        count         mean          std  min    25%    50%      75%       max\n",
       "label                                                                        \n",
       "0      2500.0  1233.672000  3101.999287  5.0  360.0  719.0  1280.25   82994.0\n",
       "1       499.0  2313.669339  9817.766265  1.0  525.0  956.0  1941.00  200408.0"
      ]
     },
     "execution_count": 16,
     "metadata": {},
     "output_type": "execute_result"
    }
   ],
   "source": [
    "spam_ham_df.groupby(\"label\")[\"num_characters\"].describe()\n",
    "\n",
    "# Inference - spam emails are longer than ham emails"
   ]
  },
  {
   "cell_type": "code",
   "execution_count": 17,
   "metadata": {},
   "outputs": [
    {
     "data": {
      "image/png": "[encoded data removed]",
      "text/plain": [
       "<Figure size 640x480 with 1 Axes>"
      ]
     },
     "metadata": {},
     "output_type": "display_data"
    }
   ],
   "source": [
    "# Average length of emails\n",
    "avg_chars_spam = spam_ham_df[spam_ham_df[\"label\"] == 1][\"num_characters\"].mean()\n",
    "avg_chars_ham = spam_ham_df[spam_ham_df[\"label\"] == 0][\"num_characters\"].mean()\n",
    "\n",
    "plt.bar([\"avg_chars_ham\", \"avg_chars_spam\"], [avg_chars_ham, avg_chars_spam], color=[\"blue\", \"orange\"])\n",
    "plt.xlabel(\"email type\")\n",
    "plt.ylabel(\"average length\")\n",
    "plt.show()"
   ]
  },
  {
   "cell_type": "code",
   "execution_count": 18,
   "metadata": {},
   "outputs": [
    {
     "data": {
      "image/png": "[encoded data removed]",
      "text/plain": [
       "<Figure size 640x480 with 1 Axes>"
      ]
     },
     "metadata": {},
     "output_type": "display_data"
    }
   ],
   "source": [
    "# Average words of emails\n",
    "avg_words_spam = spam_ham_df[spam_ham_df[\"label\"] == 1][\"num_words\"].mean()\n",
    "avg_words_ham = spam_ham_df[spam_ham_df[\"label\"] == 0][\"num_words\"].mean()\n",
    "\n",
    "plt.bar([\"avg_words_ham\", \"avg_words_spam\"], [avg_words_ham, avg_words_spam], color=[\"blue\", \"orange\"])\n",
    "plt.xlabel(\"email type\")\n",
    "plt.ylabel(\"average words\")\n",
    "plt.show()"
   ]
  },
  {
   "cell_type": "code",
   "execution_count": 19,
   "metadata": {},
   "outputs": [
    {
     "name": "stdout",
     "output_type": "stream",
     "text": [
      "Correlation between email length and spam classification 0.08178746502103873\n"
     ]
    }
   ],
   "source": [
    "# Correlation between length of email and its type\n",
    "corr = spam_ham_df[\"num_characters\"].corr((spam_ham_df[\"label\"] == 1).astype(int))\n",
    "print(\"Correlation between email length and spam classification\", corr)\n",
    "\n",
    "# inference - correlation is positive but not strong"
   ]
  },
  {
   "cell_type": "code",
   "execution_count": 20,
   "metadata": {},
   "outputs": [
    {
     "data": {
      "image/png": "[encoded data removed]",
      "text/plain": [
       "<Figure size 640x480 with 1 Axes>"
      ]
     },
     "metadata": {},
     "output_type": "display_data"
    }
   ],
   "source": [
    "import seaborn as sns\n",
    "sns.boxplot(x=\"label\", y= \"num_characters\", data=spam_ham_df)\n",
    "plt.title(\"distribution of number of characters by email\")\n",
    "plt.show()\n",
    "\n",
    "# We have some outliers"
   ]
  },
  {
   "cell_type": "code",
   "execution_count": 21,
   "metadata": {},
   "outputs": [
    {
     "data": {
      "image/png": "[encoded data removed]",
      "text/plain": [
       "<Figure size 640x480 with 2 Axes>"
      ]
     },
     "metadata": {},
     "output_type": "display_data"
    }
   ],
   "source": [
    "# Correlation matrix\n",
    "corr_mat = spam_ham_df.corr(numeric_only=True)\n",
    "\n",
    "sns.heatmap(corr_mat, cmap=\"copper_r\", annot=True)\n",
    "plt.title(\"Correlation matrix\")\n",
    "plt.show()"
   ]
  },
  {
   "cell_type": "markdown",
   "metadata": {},
   "source": [
    "# Data Preprocessing"
   ]
  },
  {
   "cell_type": "markdown",
   "metadata": {},
   "source": [
    "## Data Cleaning"
   ]
  },
  {
   "cell_type": "code",
   "execution_count": 22,
   "metadata": {},
   "outputs": [],
   "source": [
    "spam_ham_df_pre = spam_ham_df"
   ]
  },
  {
   "cell_type": "code",
   "execution_count": 24,
   "metadata": {},
   "outputs": [],
   "source": [
    "from scipy import stats\n",
    "import numpy as np\n",
    "\n",
    "# From EDA, we found that the some emails are very long (outliers), so we're gonna remove such outliers\n",
    "def remove_outliers(df, col, threshold):\n",
    "    df = df[df[col] <= threshold]\n",
    "    return df\n",
    "\n",
    "def remove_outliers_z_score(df, col, z_threshold):\n",
    "    df[\"z\"] = np.abs(stats.zscore(df[col]))\n",
    "    df = df[df[\"z\"] <= z_threshold]\n",
    "    return df"
   ]
  },
  {
   "cell_type": "code",
   "execution_count": 25,
   "metadata": {},
   "outputs": [],
   "source": [
    "spam_ham_df_pre = remove_outliers(spam_ham_df_pre, \"num_characters\", 2100)"
   ]
  },
  {
   "cell_type": "code",
   "execution_count": 26,
   "metadata": {},
   "outputs": [
    {
     "data": {
      "image/png": "[encoded data removed]",
      "text/plain": [
       "<Figure size 640x480 with 2 Axes>"
      ]
     },
     "metadata": {},
     "output_type": "display_data"
    }
   ],
   "source": [
    "fig, ax = plt.subplots(1, 2)\n",
    "ax = ax.flatten()\n",
    "sns.boxplot(spam_ham_df[\"num_characters\"], ax=ax[0])\n",
    "ax[0].set_title(\"prev distr of num_characters\")\n",
    "\n",
    "sns.boxplot(spam_ham_df_pre[\"num_characters\"], ax=ax[1])\n",
    "ax[1].set_title(\"curr distr of num_characters\")\n",
    "plt.tight_layout()\n",
    "plt.show()"
   ]
  },
  {
   "cell_type": "markdown",
   "metadata": {},
   "source": [
    "## Feature Selection"
   ]
  },
  {
   "cell_type": "code",
   "execution_count": 27,
   "metadata": {},
   "outputs": [],
   "source": [
    "# Drop num_sentences\n",
    "spam_ham_df_pre = spam_ham_df_pre.drop(\"num_sentences\", axis=1)"
   ]
  },
  {
   "cell_type": "markdown",
   "metadata": {},
   "source": [
    "## Feature Engineering"
   ]
  },
  {
   "cell_type": "code",
   "execution_count": 28,
   "metadata": {},
   "outputs": [],
   "source": [
    "import re\n",
    "from nltk.corpus import stopwords\n",
    "import string\n",
    "from nltk.stem import PorterStemmer\n",
    "\n",
    "# Convert to lower case\n",
    "spam_ham_df_pre[\"transformed_text\"] = spam_ham_df_pre[\"email\"].str.lower()\n",
    "\n",
    "# Tokenize with words\n",
    "spam_ham_df_pre[\"transformed_text\"] = spam_ham_df_pre[\"transformed_text\"].apply(word_tokenize)\n",
    "\n",
    "# Remove special characters\n",
    "spam_ham_df[\"transformed_text\"] = spam_ham_df_pre[\"transformed_text\"].apply(lambda x: [re.sub('[^a-zA-Z0-9]+', '', word) for word in x])\n",
    "\n",
    "# Remove stop words and punctuation\n",
    "stop_words = set(stopwords.words(\"english\"))\n",
    "punctuations = string.punctuation\n",
    "spam_ham_df_pre[\"transformed_text\"] = spam_ham_df_pre[\"transformed_text\"].apply(lambda x: [word for word in x if word not in stop_words and word not in punctuations])\n",
    "\n",
    "# Reduce words to their base form (stemming)\n",
    "ps = PorterStemmer()\n",
    "spam_ham_df_pre[\"transformed_text\"] = spam_ham_df_pre[\"transformed_text\"].apply(lambda x: [ps.stem(word) for word in x])\n",
    "\n",
    "# Convert preprocessed data back to string\n",
    "spam_ham_df_pre[\"transformed_text\"] = spam_ham_df_pre[\"transformed_text\"].apply(lambda x: \" \".join(x))"
   ]
  },
  {
   "cell_type": "markdown",
   "metadata": {},
   "source": [
    "## Feature Scaling"
   ]
  },
  {
   "cell_type": "code",
   "execution_count": 29,
   "metadata": {},
   "outputs": [
    {
     "data": {
      "text/html": [
       "<div>\n",
       "<style scoped>\n",
       "    .dataframe tbody tr th:only-of-type {\n",
       "        vertical-align: middle;\n",
       "    }\n",
       "\n",
       "    .dataframe tbody tr th {\n",
       "        vertical-align: top;\n",
       "    }\n",
       "\n",
       "    .dataframe thead th {\n",
       "        text-align: right;\n",
       "    }\n",
       "</style>\n",
       "<table border=\"1\" class=\"dataframe\">\n",
       "  <thead>\n",
       "    <tr style=\"text-align: right;\">\n",
       "      <th></th>\n",
       "      <th>email</th>\n",
       "      <th>label</th>\n",
       "      <th>num_characters</th>\n",
       "      <th>num_words</th>\n",
       "      <th>transformed_text</th>\n",
       "    </tr>\n",
       "  </thead>\n",
       "  <tbody>\n",
       "    <tr>\n",
       "      <th>0</th>\n",
       "      <td>date wed NUMBER aug NUMBER NUMBER NUMBER NUMB...</td>\n",
       "      <td>0</td>\n",
       "      <td>1.607174</td>\n",
       "      <td>1.460934</td>\n",
       "      <td>date wed number aug number number number numbe...</td>\n",
       "    </tr>\n",
       "    <tr>\n",
       "      <th>1</th>\n",
       "      <td>martin a posted tassos papadopoulos the greek ...</td>\n",
       "      <td>0</td>\n",
       "      <td>-0.191113</td>\n",
       "      <td>-0.189134</td>\n",
       "      <td>martin post tasso papadopoulo greek sculptor b...</td>\n",
       "    </tr>\n",
       "    <tr>\n",
       "      <th>2</th>\n",
       "      <td>man threatens explosion in moscow thursday aug...</td>\n",
       "      <td>0</td>\n",
       "      <td>1.580578</td>\n",
       "      <td>1.449475</td>\n",
       "      <td>man threaten explos moscow thursday august num...</td>\n",
       "    </tr>\n",
       "    <tr>\n",
       "      <th>3</th>\n",
       "      <td>klez the virus that won t die already the most...</td>\n",
       "      <td>0</td>\n",
       "      <td>0.569937</td>\n",
       "      <td>0.452559</td>\n",
       "      <td>klez viru die alreadi prolif viru ever klez co...</td>\n",
       "    </tr>\n",
       "    <tr>\n",
       "      <th>4</th>\n",
       "      <td>in adding cream to spaghetti carbonara which ...</td>\n",
       "      <td>0</td>\n",
       "      <td>0.070754</td>\n",
       "      <td>0.166089</td>\n",
       "      <td>ad cream spaghetti carbonara effect pasta make...</td>\n",
       "    </tr>\n",
       "    <tr>\n",
       "      <th>...</th>\n",
       "      <td>...</td>\n",
       "      <td>...</td>\n",
       "      <td>...</td>\n",
       "      <td>...</td>\n",
       "      <td>...</td>\n",
       "    </tr>\n",
       "    <tr>\n",
       "      <th>2991</th>\n",
       "      <td>wealth without risk discover the best kept se...</td>\n",
       "      <td>1</td>\n",
       "      <td>1.500791</td>\n",
       "      <td>1.380722</td>\n",
       "      <td>wealth without risk discov best kept secret am...</td>\n",
       "    </tr>\n",
       "    <tr>\n",
       "      <th>2994</th>\n",
       "      <td>abc s good morning america ranks it the NUMBE...</td>\n",
       "      <td>1</td>\n",
       "      <td>-0.358871</td>\n",
       "      <td>-0.383934</td>\n",
       "      <td>abc good morn america rank number christma toy...</td>\n",
       "    </tr>\n",
       "    <tr>\n",
       "      <th>2995</th>\n",
       "      <td>hyperlink hyperlink hyperlink let mortgage le...</td>\n",
       "      <td>1</td>\n",
       "      <td>-0.549134</td>\n",
       "      <td>-0.578734</td>\n",
       "      <td>hyperlink hyperlink hyperlink let mortgag lend...</td>\n",
       "    </tr>\n",
       "    <tr>\n",
       "      <th>2996</th>\n",
       "      <td>thank you for shopping with us gifts for all ...</td>\n",
       "      <td>1</td>\n",
       "      <td>0.261016</td>\n",
       "      <td>0.280677</td>\n",
       "      <td>thank shop us gift occas free gift number numb...</td>\n",
       "    </tr>\n",
       "    <tr>\n",
       "      <th>2998</th>\n",
       "      <td>hello this is chinese traditional 子 件 NUMBER世...</td>\n",
       "      <td>1</td>\n",
       "      <td>2.546211</td>\n",
       "      <td>3.523519</td>\n",
       "      <td>hello chines tradit 子 件 number世 o最有效的宣 鞣绞剑 您想 ...</td>\n",
       "    </tr>\n",
       "  </tbody>\n",
       "</table>\n",
       "<p>2605 rows × 5 columns</p>\n",
       "</div>"
      ],
      "text/plain": [
       "                                                  email  label  \\\n",
       "0      date wed NUMBER aug NUMBER NUMBER NUMBER NUMB...      0   \n",
       "1     martin a posted tassos papadopoulos the greek ...      0   \n",
       "2     man threatens explosion in moscow thursday aug...      0   \n",
       "3     klez the virus that won t die already the most...      0   \n",
       "4      in adding cream to spaghetti carbonara which ...      0   \n",
       "...                                                 ...    ...   \n",
       "2991   wealth without risk discover the best kept se...      1   \n",
       "2994   abc s good morning america ranks it the NUMBE...      1   \n",
       "2995   hyperlink hyperlink hyperlink let mortgage le...      1   \n",
       "2996   thank you for shopping with us gifts for all ...      1   \n",
       "2998   hello this is chinese traditional 子 件 NUMBER世...      1   \n",
       "\n",
       "      num_characters  num_words  \\\n",
       "0           1.607174   1.460934   \n",
       "1          -0.191113  -0.189134   \n",
       "2           1.580578   1.449475   \n",
       "3           0.569937   0.452559   \n",
       "4           0.070754   0.166089   \n",
       "...              ...        ...   \n",
       "2991        1.500791   1.380722   \n",
       "2994       -0.358871  -0.383934   \n",
       "2995       -0.549134  -0.578734   \n",
       "2996        0.261016   0.280677   \n",
       "2998        2.546211   3.523519   \n",
       "\n",
       "                                       transformed_text  \n",
       "0     date wed number aug number number number numbe...  \n",
       "1     martin post tasso papadopoulo greek sculptor b...  \n",
       "2     man threaten explos moscow thursday august num...  \n",
       "3     klez viru die alreadi prolif viru ever klez co...  \n",
       "4     ad cream spaghetti carbonara effect pasta make...  \n",
       "...                                                 ...  \n",
       "2991  wealth without risk discov best kept secret am...  \n",
       "2994  abc good morn america rank number christma toy...  \n",
       "2995  hyperlink hyperlink hyperlink let mortgag lend...  \n",
       "2996  thank shop us gift occas free gift number numb...  \n",
       "2998  hello chines tradit 子 件 number世 o最有效的宣 鞣绞剑 您想 ...  \n",
       "\n",
       "[2605 rows x 5 columns]"
      ]
     },
     "execution_count": 29,
     "metadata": {},
     "output_type": "execute_result"
    }
   ],
   "source": [
    "from sklearn.preprocessing import StandardScaler\n",
    "\n",
    "std_scaler = StandardScaler()\n",
    "spam_ham_df_pre[\"num_words\"] = std_scaler.fit_transform(spam_ham_df_pre[\"num_words\"].values.reshape(-1,1))\n",
    "spam_ham_df_pre[\"num_characters\"] = std_scaler.fit_transform(spam_ham_df_pre[\"num_characters\"].values.reshape(-1,1))\n",
    "spam_ham_df_pre"
   ]
  },
  {
   "cell_type": "markdown",
   "metadata": {},
   "source": [
    "# Model Shortlisting"
   ]
  },
  {
   "cell_type": "code",
   "execution_count": 30,
   "metadata": {},
   "outputs": [],
   "source": [
    "from sklearn.feature_extraction.text import TfidfVectorizer\n",
    "from sklearn.model_selection import train_test_split\n",
    "\n",
    "tfidf = TfidfVectorizer()\n",
    "X = tfidf.fit_transform(spam_ham_df_pre[\"email\"]).toarray()\n",
    "y = spam_ham_df_pre[\"label\"]\n",
    "X_train, X_test, y_train, y_test = train_test_split(X, y, test_size=0.2, random_state=42)"
   ]
  },
  {
   "cell_type": "code",
   "execution_count": 31,
   "metadata": {},
   "outputs": [],
   "source": [
    "# train svc\n",
    "from sklearn.svm import SVC\n",
    "svc_clf = SVC()\n",
    "svc_clf.fit(X_train, y_train)\n",
    "y_pred = svc_clf.predict(X_test)\n"
   ]
  },
  {
   "cell_type": "code",
   "execution_count": 32,
   "metadata": {},
   "outputs": [
    {
     "name": "stdout",
     "output_type": "stream",
     "text": [
      "rmse: 0.12391564216175795\n",
      "accuracy score: 0.9846449136276392\n",
      "confusion matrix:\n",
      "[[445   0]\n",
      " [  8  68]]\n"
     ]
    }
   ],
   "source": [
    "from sklearn.metrics import mean_squared_error, accuracy_score, confusion_matrix\n",
    "\n",
    "mse = mean_squared_error(y_test, y_pred)\n",
    "rmse = np.sqrt(mse)\n",
    "acc_score = accuracy_score(y_test, y_pred)\n",
    "cf_mat = confusion_matrix(y_test, y_pred)\n",
    "\n",
    "print(f\"rmse: {rmse}\\naccuracy score: {acc_score}\")\n",
    "print(f\"confusion matrix:\\n{cf_mat}\")"
   ]
  },
  {
   "cell_type": "markdown",
   "metadata": {},
   "source": [
    "Verification with example "
   ]
  },
  {
   "cell_type": "code",
   "execution_count": 37,
   "metadata": {},
   "outputs": [
    {
     "name": "stdout",
     "output_type": "stream",
     "text": [
      "The email is not spam\n"
     ]
    }
   ],
   "source": [
    "# Example non-spam email \n",
    "x1 = \"xvid NUMBER is a project to make gpl divx codecs sigma designs NUMBER is a company looking to put out hardware to playback amongst other things divx files problem is sigma is using xvids gpled code in ways not very gpl...\"\n",
    "\n",
    "# Vectorizing the new input\n",
    "x1_vectorized = tfidf.transform([x1])  # Transform the input text\n",
    "\n",
    "# Convert sparse matrix to dense array for SVC prediction\n",
    "x1_dense = x1_vectorized.toarray()\n",
    "\n",
    "# Make the prediction\n",
    "y1_pred = svc_clf.predict(x1_dense)  # Use the dense array for prediction\n",
    "\n",
    "# Output the prediction\n",
    "if y1_pred[0] == 1:\n",
    "    print(\"The email is spam\")\n",
    "else:\n",
    "    print(\"The email is not spam\")\n",
    "\n"
   ]
  },
  {
   "cell_type": "code",
   "execution_count": 38,
   "metadata": {},
   "outputs": [
    {
     "name": "stdout",
     "output_type": "stream",
     "text": [
      "The email is spam\n"
     ]
    }
   ],
   "source": [
    "# Example spam email \n",
    "x2 = \"as seen on nbc cbs cnn and even oprah the health discovery that actually reverses aging while burning fat without dieting or exercise this proven discovery has even been reported on by the new england journal of medicine forget aging and dieting forever and it s guaranteed click here URL would you like to lose weight while you sleep no dieting no hunger pains no cravings no strenuous exercise change your life forever NUMBER guaranteed NUMBER body fat loss NUMBER improvement NUMBER wrinkle reduction NUMBER improvement URL level NUMBER improvement NUMBER muscle strength NUMBER improvement NUMBER sexual potency NUMBER improvement NUMBER emotional stability NUMBER improvement NUMBER memory NUMBER improvement you are receiving this email as a subscriber to the opt in america mailing list to unsubscribe from future offers just click here mailto affiliateoptout URL\"\n",
    "\n",
    "# Vectorizing the new input\n",
    "x2_vectorized = tfidf.transform([x2])  # Transform the input text\n",
    "\n",
    "# Convert sparse matrix to dense array for SVC prediction\n",
    "x2_dense = x2_vectorized.toarray()\n",
    "\n",
    "# Make the prediction\n",
    "y2_pred = svc_clf.predict(x2_dense)  # Use the dense array for prediction\n",
    "\n",
    "# Output the prediction\n",
    "if y2_pred[0] == 1:  # Assuming 1 indicates spam\n",
    "    print(\"The email is spam\")\n",
    "else:\n",
    "    print(\"The email is not spam\")\n"
   ]
  }
 ],
 "metadata": {
  "kernelspec": {
   "display_name": "Python 3",
   "language": "python",
   "name": "python3"
  },
  "language_info": {
   "codemirror_mode": {
    "name": "ipython",
    "version": 3
   },
   "file_extension": ".py",
   "mimetype": "text/x-python",
   "name": "python",
   "nbconvert_exporter": "python",
   "pygments_lexer": "ipython3",
   "version": "3.12.7"
  }
 },
 "nbformat": 4,
 "nbformat_minor": 2
}
